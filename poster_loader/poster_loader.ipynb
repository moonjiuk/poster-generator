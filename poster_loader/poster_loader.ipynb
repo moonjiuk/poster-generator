{
 "cells": [
  {
   "cell_type": "markdown",
   "id": "cc343704-6f0f-4a29-b57e-c0959cd413e9",
   "metadata": {},
   "source": [
    "# Poster Loader\n",
    "##### 포스터를 다운로드하는 코드. \n",
    "##### CSV파일에서 'Poster URL'열에서 시리즈 데이터를 가져와 해당 URL에 get요청으로 포스터를 다운로드 한 후, downloaded_posters폴더에 저장한다.\n",
    "##### 저장된 포스터 중 '매주 새로운 에피소트'와 같이 포스터에 관련 없는 텍스트나 아이콘을 가진 포스터를 수작업으로 삭제해주어야 한다."
   ]
  },
  {
   "cell_type": "code",
   "execution_count": 2,
   "id": "d0a4dcdc-d655-4a5d-a3ef-842f9eefdfea",
   "metadata": {},
   "outputs": [],
   "source": [
    "import pandas as pd\n",
    "import requests\n",
    "import os\n",
    "from PIL import Image"
   ]
  },
  {
   "cell_type": "code",
   "execution_count": 3,
   "id": "5c7bb954-810c-44f5-baf6-eb5a1c828832",
   "metadata": {},
   "outputs": [
    {
     "name": "stdout",
     "output_type": "stream",
     "text": [
      "Downloading: 100.00% completed"
     ]
    }
   ],
   "source": [
    "# CSV 파일 읽기\n",
    "poster_urls = pd.read_csv('poster_urls.csv')\n",
    "\n",
    "# 이미지 다운로드\n",
    "for idx, url in enumerate(poster_urls['Poster URL']):\n",
    "    response = requests.get(url)\n",
    "    if response.status_code == 200:\n",
    "        file_name = os.path.join('downloaded_posters', f'poster_{idx+1}.jpg')  # 인덱스를 파일 이름에 포함\n",
    "        with open(file_name, 'wb') as file:\n",
    "            file.write(response.content)\n",
    "\n",
    "        progress = (idx + 1) / len(poster_urls['Poster URL']) * 100  # 다운로드 진행율 계산\n",
    "        print(f'\\rDownloading: {progress:.2f}% completed', end='')  # 같은 줄에 계속 업데이트\n",
    "    else:\n",
    "        print(f'Failed to download {idx}: {url} poster')\n"
   ]
  },
  {
   "cell_type": "code",
   "execution_count": null,
   "id": "3c7bda40-8513-4220-8e83-a9d40d223855",
   "metadata": {},
   "outputs": [],
   "source": []
  }
 ],
 "metadata": {
  "kernelspec": {
   "display_name": "Python 3 (ipykernel)",
   "language": "python",
   "name": "python3"
  },
  "language_info": {
   "codemirror_mode": {
    "name": "ipython",
    "version": 3
   },
   "file_extension": ".py",
   "mimetype": "text/x-python",
   "name": "python",
   "nbconvert_exporter": "python",
   "pygments_lexer": "ipython3",
   "version": "3.11.4"
  }
 },
 "nbformat": 4,
 "nbformat_minor": 5
}
